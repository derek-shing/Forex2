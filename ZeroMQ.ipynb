{
  "nbformat": 4,
  "nbformat_minor": 0,
  "metadata": {
    "colab": {
      "name": "ZeroMQ.ipynb",
      "provenance": [],
      "authorship_tag": "ABX9TyPvufkAT4Nyw/OrnsEOU6Ot",
      "include_colab_link": true
    },
    "kernelspec": {
      "name": "python3",
      "display_name": "Python 3"
    }
  },
  "cells": [
    {
      "cell_type": "markdown",
      "metadata": {
        "id": "view-in-github",
        "colab_type": "text"
      },
      "source": [
        "<a href=\"https://colab.research.google.com/github/derek-shing/Forex2/blob/master/ZeroMQ.ipynb\" target=\"_parent\"><img src=\"https://colab.research.google.com/assets/colab-badge.svg\" alt=\"Open In Colab\"/></a>"
      ]
    },
    {
      "cell_type": "markdown",
      "metadata": {
        "id": "BAhmA_n0oajw",
        "colab_type": "text"
      },
      "source": [
        "https://www.youtube.com/watch?v=3nM0c2kG_Sw&vl=en\n"
      ]
    },
    {
      "cell_type": "code",
      "metadata": {
        "id": "BlKX9IHwoXuK",
        "colab_type": "code",
        "colab": {}
      },
      "source": [
        ""
      ],
      "execution_count": 0,
      "outputs": []
    }
  ]
}