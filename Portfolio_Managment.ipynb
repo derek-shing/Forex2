{
  "nbformat": 4,
  "nbformat_minor": 0,
  "metadata": {
    "colab": {
      "name": "Portfolio_Managment.ipynb",
      "provenance": [],
      "authorship_tag": "ABX9TyOAvMbjPJ0Q+truMg0m/6h+",
      "include_colab_link": true
    },
    "kernelspec": {
      "name": "python3",
      "display_name": "Python 3"
    }
  },
  "cells": [
    {
      "cell_type": "markdown",
      "metadata": {
        "id": "view-in-github",
        "colab_type": "text"
      },
      "source": [
        "<a href=\"https://colab.research.google.com/github/derek-shing/Forex2/blob/master/Portfolio_Managment.ipynb\" target=\"_parent\"><img src=\"https://colab.research.google.com/assets/colab-badge.svg\" alt=\"Open In Colab\"/></a>"
      ]
    },
    {
      "cell_type": "code",
      "metadata": {
        "id": "1r5JBG8J3v0_",
        "colab_type": "code",
        "colab": {}
      },
      "source": [
        "class order:\n",
        "    #ticket\n",
        "    #order_type\n",
        "    #instrument\n",
        "    #units\n",
        "    #time\n",
        "    #action\n",
        "    #status\n",
        "\n",
        "    def __init(self):\n",
        "      self.order_type=\"Market\"\n",
        "      self.units=100\n",
        "      self.instrument=\"EUR_USD\"\n",
        "      self.action=\"Buy\"\n",
        "      self.time=time()\n"
      ],
      "execution_count": 0,
      "outputs": []
    },
    {
      "cell_type": "code",
      "metadata": {
        "id": "1x7V7Ocd-A0l",
        "colab_type": "code",
        "colab": {}
      },
      "source": [
        "class market:\n",
        "  "
      ],
      "execution_count": 0,
      "outputs": []
    },
    {
      "cell_type": "code",
      "metadata": {
        "id": "-DSkA-aGzQ76",
        "colab_type": "code",
        "colab": {}
      },
      "source": [
        "class pm:\n",
        "\n",
        "    #Attribute\n",
        "    #broker\n",
        "    #account_id\n",
        "    #NAV\n",
        "    #unrealizedPL\n",
        "    #balance\n",
        "    #realizedPL\n",
        "    #position_value\n",
        "    #margin_used\n",
        "    #margin_available\n",
        "    #leverage\n",
        "    #position List of open position\n",
        "    #orders List of open orders\n",
        "\n",
        " \n",
        "    #Method\n",
        "    def __init__(self):\n",
        "        self.broker=\"Oanda\"\n",
        "        self.account_id=\"101-001-13650450-001\"\n",
        "        self.balance=100000\n",
        "\n",
        "    \n",
        "    #view_position()\n",
        "    #Order()\n",
        " \n",
        "\n"
      ],
      "execution_count": 0,
      "outputs": []
    },
    {
      "cell_type": "code",
      "metadata": {
        "id": "7VpIzbzj8Yrw",
        "colab_type": "code",
        "colab": {
          "base_uri": "https://localhost:8080/",
          "height": 35
        },
        "outputId": "e04890e5-f6fa-4462-dea6-501bd5998042"
      },
      "source": [
        "p1 = pm()\n",
        "p1.balance"
      ],
      "execution_count": 7,
      "outputs": [
        {
          "output_type": "execute_result",
          "data": {
            "text/plain": [
              "100000"
            ]
          },
          "metadata": {
            "tags": []
          },
          "execution_count": 7
        }
      ]
    }
  ]
}