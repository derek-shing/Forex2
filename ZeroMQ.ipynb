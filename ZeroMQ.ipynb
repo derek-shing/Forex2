{
  "nbformat": 4,
  "nbformat_minor": 0,
  "metadata": {
    "colab": {
      "name": "ZeroMQ.ipynb",
      "provenance": [],
      "authorship_tag": "ABX9TyN82MECTJoOyFx8VWG8NNcm",
      "include_colab_link": true
    },
    "kernelspec": {
      "name": "python3",
      "display_name": "Python 3"
    }
  },
  "cells": [
    {
      "cell_type": "markdown",
      "metadata": {
        "id": "view-in-github",
        "colab_type": "text"
      },
      "source": [
        "<a href=\"https://colab.research.google.com/github/derek-shing/Forex2/blob/master/ZeroMQ.ipynb\" target=\"_parent\"><img src=\"https://colab.research.google.com/assets/colab-badge.svg\" alt=\"Open In Colab\"/></a>"
      ]
    },
    {
      "cell_type": "markdown",
      "metadata": {
        "id": "BAhmA_n0oajw",
        "colab_type": "text"
      },
      "source": [
        "https://www.youtube.com/watch?v=3nM0c2kG_Sw&vl=en  \n",
        "\n",
        "https://github.com/darwinex/dwx-zeromq-connector  \n",
        "\n"
      ]
    },
    {
      "cell_type": "markdown",
      "metadata": {
        "id": "pUgThLFsAGn5",
        "colab_type": "text"
      },
      "source": [
        "https://www.oanda.com/demo-account/tpa/personal_token"
      ]
    },
    {
      "cell_type": "code",
      "metadata": {
        "id": "BlKX9IHwoXuK",
        "colab_type": "code",
        "colab": {}
      },
      "source": [
        ""
      ],
      "execution_count": 0,
      "outputs": []
    },
    {
      "cell_type": "markdown",
      "metadata": {
        "id": "dYHBPUyC0IER",
        "colab_type": "text"
      },
      "source": [
        "IG API"
      ]
    },
    {
      "cell_type": "code",
      "metadata": {
        "id": "bBcetBUV0G19",
        "colab_type": "code",
        "colab": {}
      },
      "source": [
        "Hi! here is an \"hello world\" python code for the IG streaming API, enjoy :)\n",
        "\n",
        "import sys,requests\n",
        "\n",
        "# IG rest API parameters\n",
        "\n",
        "rest_api_key = \"<your ig api key>\"\n",
        "rest_identifier = \"<your ig username>\"\n",
        "rest_password = \"<your ig password>\"\n",
        "\n",
        "# IG rest login request\n",
        "\n",
        "rest_url = \"https://api.ig.com/gateway/deal/session\"\n",
        "\n",
        "headers = {}\n",
        "headers[\"Content-Type\"] = \"application/json; charset=UTF-8\"\n",
        "headers[\"Accept\"] = \"application/json; charset=UTF-8\"\n",
        "headers [\"Version\"] = \"2\"\n",
        "headers [\"X-IG-API-KEY\"] = rest_api_key\n",
        "\n",
        "request_json = {}\n",
        "request_json[\"identifier\"] = rest_identifier\n",
        "request_json[\"password\"] = rest_password\n",
        "\n",
        "rest_response = requests.request(\"POST\", rest_url, headers=headers, json=request_json)\n",
        "if rest_response.status_code != 200:\n",
        "print(\"error\", rest_response.status_code, rest_url, rest_response.text)\n",
        "sys.exit(0)\n",
        "\n",
        "# collect params from IG rest login response\n",
        "\n",
        "xst = rest_response.headers[\"X-SECURITY-TOKEN\"]\n",
        "cst = rest_response.headers[\"CST\"]\n",
        "\n",
        "response_json = rest_response.json()\n",
        "current_account = response_json[\"currentAccountId\"]\n",
        "lightstreamer_endpoint = response_json[\"lightstreamerEndpoint\"]\n",
        "\n",
        "# IG streaming login request\n",
        "\n",
        "streaming_url = \"{}/lightstreamer/create_session.txt\".format(lightstreamer_endpoint)\n",
        "\n",
        "steaming_user = current_account;\n",
        "steaming_password = \"CST-{}|XST-{}\".format(cst, xst)\n",
        "\n",
        "query = {}\n",
        "query[\"LS_op2\"] = \"create\"\n",
        "query[\"LS_cid\"] = \"mgQkwtwdysogQz2BJ4Ji kOj2Bg\"\n",
        "query[\"LS_user\"] = steaming_user\n",
        "query[\"LS_password\"] = steaming_password\n",
        "\n",
        "streaming_response = requests.request(\"POST\", streaming_url, data=query, stream=True)\n",
        "if streaming_response.status_code != 200:\n",
        "print(\"error\", streaming_response.status_code, streaming_url, streaming_response.text)\n",
        "sys.exit(0)\n",
        "\n",
        "# collect params from streaming response\n",
        "\n",
        "streaming_session = None\n",
        "control_domain = None\n",
        "streaming_iterator = streaming_response.iter_lines(chunk_size=80, decode_unicode=True)\n",
        "for line in streaming_iterator:\n",
        "print(\"line\", line)\n",
        "if \":\" not in line:\n",
        "continue\n",
        "[param,value] = line.split(\":\",1)\n",
        "if param == \"SessionId\":\n",
        "streaming_session = value\n",
        "if param == \"ControlAddress\":\n",
        "control_domain = value\n",
        "if streaming_session and control_domain:\n",
        "break\n",
        "\n",
        "# open control connection and subscribe EURUSD\n",
        "\n",
        "control_url = \"https://{}/lightstreamer/control.txt\".format(control_domain)\n",
        "\n",
        "query = {}\n",
        "query[\"LS_session\"] = streaming_session\n",
        "query[\"LS_op\"]=\"add\"\n",
        "query[\"LS_table\"]=\"1\"\n",
        "query[\"LS_id\"]=\"MARKET:CS.D.EURUSD.MINI.IP\"\n",
        "query[\"LS_schema\"]=\"BID OFFER\"\n",
        "query[\"LS_mode\"]=\"MERGE\"\n",
        "\n",
        "control_response = requests.request(\"POST\", control_url, data=query)\n",
        "if control_response.status_code != 200:\n",
        "print(\"error\", control_response.status_code, control_url, control_response.text)\n",
        "sys.exit(0)\n",
        "\n",
        "# stream prices\n",
        "\n",
        "for line in streaming_iterator:\n",
        "print(\"line\", line)"
      ],
      "execution_count": 0,
      "outputs": []
    }
  ]
}