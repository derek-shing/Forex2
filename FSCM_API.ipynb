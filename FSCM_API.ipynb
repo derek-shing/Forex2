{
  "nbformat": 4,
  "nbformat_minor": 0,
  "metadata": {
    "colab": {
      "name": "FSCM_API.ipynb",
      "provenance": [],
      "authorship_tag": "ABX9TyPx4beE4cJh2ERM1xuB+Hee",
      "include_colab_link": true
    },
    "kernelspec": {
      "name": "python3",
      "display_name": "Python 3"
    }
  },
  "cells": [
    {
      "cell_type": "markdown",
      "metadata": {
        "id": "view-in-github",
        "colab_type": "text"
      },
      "source": [
        "<a href=\"https://colab.research.google.com/github/derek-shing/Forex2/blob/master/FSCM_API.ipynb\" target=\"_parent\"><img src=\"https://colab.research.google.com/assets/colab-badge.svg\" alt=\"Open In Colab\"/></a>"
      ]
    },
    {
      "cell_type": "markdown",
      "metadata": {
        "id": "BAhmA_n0oajw",
        "colab_type": "text"
      },
      "source": [
        "https://www.youtube.com/watch?v=_mlCswQeM4E"
      ]
    },
    {
      "cell_type": "code",
      "metadata": {
        "id": "BlKX9IHwoXuK",
        "colab_type": "code",
        "colab": {}
      },
      "source": [
        ""
      ],
      "execution_count": 0,
      "outputs": []
    }
  ]
}